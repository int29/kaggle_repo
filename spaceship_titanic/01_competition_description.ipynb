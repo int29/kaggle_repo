{
 "cells": [
  {
   "cell_type": "markdown",
   "id": "77cb3107",
   "metadata": {},
   "source": [
    "# Kaggle 대회 정리\n",
    "\n",
    "## 우주왕복선 타이타닉 : 어떤 탑승객이 다른차원으로 전송되었는지 예측하라!\n",
    "\n",
    "* 대회명 : Spaceship Titanic : Predict which passengers are transported to an alternate dimension\n",
    "* 링크 : https://www.kaggle.com/competitions/spaceship-titanic\n",
    "\n",
    "```\n",
    "추천 대회\n",
    "캐글 대회와 기본적인 머신러닝에 익숙해질 수 있는 Titanic - Machine Learning from Disaster 대회를 추천합니다.\n",
    "```"
   ]
  },
  {
   "cell_type": "markdown",
   "id": "e11ecc89",
   "metadata": {},
   "source": [
    "## 대회소개\n",
    "2912년에 오신것을 환영합니다. 우주의 미스터리를 풀 수 있을 정도로 과학기술이 발전한 이곳에서 우리는 40여광년 떨어진 곳으로 여행하는 우주왕복선에서 좋지 못한 소식을 전달받았습니다. \n",
    "\n",
    "몇 달전 우주왕복선 타이타닉은 약 13,000명의 탑승객을 태우고 태양계에서 새로발견된 3개의 거주가능 행성으로 첫 출항을 시작하였습니다. 우주왕복선이 첫 도착지인 알파센타우리(Alpha Centauri)로 가던 중 태양계의 the torrid 55 Cancri E 궤도에서 예상치못한 숨겨진 우주 먼지구름을 속을 지나게 되었습니다. 이름 탓이었을까요? 슬프게도 절반에 가까운 승객들이 다른차원으로 전송되었다는 사실을 알아차렸습니다.\n",
    "\n",
    "\n",
    "## 대회목표\n",
    "이번 대회에서 우리의 목표는 우주왕복선의 손상된 시스템에서 복구한 승객정보를 통해 어떤 승객이 다른차원으로 전송되었는지 아닌지를 예측하는것 입니다.\n",
    "(원문 : Data > Dataset Description)\n",
    "\n",
    "## 평가방법\n",
    "\n",
    "제출한 결과는 `classification accuracy` 방식으로 평가합니다.(전체 예측결과중 맞춘 라벨의 갯수의 비중(%))\n",
    "\n",
    "$$ 정확도(\\%) = \\frac{맞춘예측수}{총 예측수}$$\n",
    "\n"
   ]
  },
  {
   "cell_type": "markdown",
   "id": "50f53983",
   "metadata": {},
   "source": [
    "## 데이터 설명\n",
    "\n",
    "### train.csv : \n",
    "훈련 시 반드시 사용해야 하는 탑승객 8,700의 개인정보입니다.\n",
    "\n",
    "**<칼럼 스키마>**\n",
    ">* PassengerId : 승객에 대한 유니크한 id로 각 id는 `gggg_pp` 포멧으로 표현됩니다. 이 때, `gggg`는 그룹을 뜻하며 이들은 같이 여행하는 승객들을 의미합다. `pp`는 그룹내의 각 승객의 번호를 의미합니다.(그룹에 속하는 구성원들은 대개 가족인 경우가 흔하지만, 그렇다고 반드시 가족을 의미하는것은 아닙니다.)<br>\n",
    ">* HomePlanet : 승객들이 출발한 행성입니다. 일반적으로 승객들이 일생을 보낸 행성입니다.<br>\n",
    ">* CryoSleep - 가사(suspended animation)방식으로 항해하는것을 선택하였는지 여부입니다.(승객의 객실(cabin)을 통해 더 정확하게 구분할 수 있습니다.)<br>\n",
    ">* Cabin : 탑승객이 머무는 객실번호로 `deck/num/side` 포멧을 갖습니다. side의 경우 포트(port)를 의미하는 `P`나 배의 우현(Starboard)을 의미하는 `S`를 의미합니다.<br>\n",
    ">* Destination : 승객들이 내리고자하는 행성입니다. <br>\n",
    ">* Age : 탑승객의 나이 입니다. <br>\n",
    ">* VIP : 탑승객이 항해도중 VIP 서비스를 신청하고 지불하였는지 아닌지 여부 입니다.<br>\n",
    ">* RoomService, FoodCourt, ShoppingMall, Spa, VRDeck : 승객이 얼마나 왕복선의 럭셔리 편의시설 지불했는지 입니다.<br>\n",
    ">* Name : 승객의 The first, last names(이름)<br>\n",
    ">* Transported : 다른차원으로 전송되었는지 아닌지 여부를 나타냅니다. 이 칼럼이 여러분이 예측을 해야할 타겟변수입니다.<br>\n",
    "\n",
    "### test.csv : \n",
    "훈련데이터에는 존재하지 않는 나머지 4,300명의 탑승객의 정보입니다. 테스트시 사용해야하며, `Transported` 칼럼 값을 예측하여야 합니다.<br><br>\n",
    "\n",
    "**<칼럼 스키마>**\n",
    "train.csv와 동일한 칼럼이 존재합니다. 단, 예측하려는 타겟값인 Transported칼럼은 존재하지 않습니다.\n",
    "\n",
    "### sample_submission.csv \n",
    "결과를 kaggle 제출할 파일양식입니다.\n",
    "\n",
    "**<칼럼 스키마>**<br>\n",
    ">* PassengerId : test.csv에 존재하는 `PassengerId`가 동일하게 존재합니다.<br>\n",
    ">* Transported : 예측하고자 하는 타겟이며 test.csv를 통해 모델이 예측한 `True` 나 `False` 양식으로 `Transported` 입력합니다.<br>\n",
    "\n",
    "## 제출방법\n",
    "\n",
    "제출을 위한 포멧은 아래와 같이 PassengerId, Transported 칼럼만 존재하는 아래 형태의 \\*.csv파일로 제출해야 합니다.(sample_submission.csv 파일의 Transported파일을 입력하여 제출해도 무방합니다.)\n",
    "\n",
    "```\n",
    "PassengerId,Transported\n",
    "0013_01,False\n",
    "0018_01,False\n",
    "0019_01,False\n",
    "0021_01,False\n",
    "etc.\n",
    "```   "
   ]
  },
  {
   "cell_type": "markdown",
   "id": "85fe4368",
   "metadata": {},
   "source": [
    "<<문서의 끝>>"
   ]
  }
 ],
 "metadata": {
  "kernelspec": {
   "display_name": "Python 3 (ipykernel)",
   "language": "python",
   "name": "python3"
  },
  "language_info": {
   "codemirror_mode": {
    "name": "ipython",
    "version": 3
   },
   "file_extension": ".py",
   "mimetype": "text/x-python",
   "name": "python",
   "nbconvert_exporter": "python",
   "pygments_lexer": "ipython3",
   "version": "3.9.13"
  }
 },
 "nbformat": 4,
 "nbformat_minor": 5
}
